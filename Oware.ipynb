{
 "cells": [
  {
   "cell_type": "code",
   "execution_count": 45,
   "id": "3acac73e",
   "metadata": {},
   "outputs": [],
   "source": [
    "import numpy as np\n",
    "import pandas as pd\n",
    "from tensorflow import keras\n",
    "from tensorflow.keras.layers import Activation, Dense, Input\n",
    "from tensorflow.keras.models import Model\n",
    "import yaml\n",
    "import matplotlib.pyplot as plt\n",
    "%matplotlib inline"
   ]
  },
  {
   "cell_type": "code",
   "execution_count": 8,
   "id": "64a2f72e",
   "metadata": {},
   "outputs": [],
   "source": [
    "size = 6\n",
    "inputs = Input(6 * 2, name='input')\n",
    "x = inputs\n",
    "x = Dense(32)(x)\n",
    "x = Dense(64)(x)\n",
    "x = Dense(size, name='output')(x)\n",
    "model = Model(inputs, x, name='model')"
   ]
  },
  {
   "cell_type": "code",
   "execution_count": 16,
   "id": "accepted-ridge",
   "metadata": {},
   "outputs": [
    {
     "data": {
      "text/plain": [
       "True"
      ]
     },
     "execution_count": 16,
     "metadata": {},
     "output_type": "execute_result"
    }
   ],
   "source": [
    "not 0"
   ]
  },
  {
   "cell_type": "code",
   "execution_count": 19,
   "id": "equal-passion",
   "metadata": {},
   "outputs": [],
   "source": [
    "df = pd.read_csv('src/temp.csv')"
   ]
  },
  {
   "cell_type": "code",
   "execution_count": 40,
   "id": "united-vampire",
   "metadata": {},
   "outputs": [],
   "source": [
    "a = df.values[:, 0]\n",
    "#for i in range(4):\n",
    "#    a = (a[1:] + a[:-1])/2"
   ]
  },
  {
   "cell_type": "code",
   "execution_count": 41,
   "id": "minute-complexity",
   "metadata": {},
   "outputs": [
    {
     "data": {
      "text/plain": [
       "[<matplotlib.lines.Line2D at 0x7fd601487e90>]"
      ]
     },
     "execution_count": 41,
     "metadata": {},
     "output_type": "execute_result"
    },
    {
     "data": {
      "image/png": "[encoded data removed]",
      "text/plain": [
       "<Figure size 432x288 with 1 Axes>"
      ]
     },
     "metadata": {
      "needs_background": "light"
     },
     "output_type": "display_data"
    }
   ],
   "source": [
    "plt.plot(a)"
   ]
  },
  {
   "cell_type": "code",
   "execution_count": 46,
   "id": "victorian-wales",
   "metadata": {},
   "outputs": [
    {
     "data": {
      "text/plain": [
       "['AliasEvent',\n",
       " 'AliasToken',\n",
       " 'AnchorToken',\n",
       " 'BaseDumper',\n",
       " 'BaseLoader',\n",
       " 'BlockEndToken',\n",
       " 'BlockEntryToken',\n",
       " 'BlockMappingStartToken',\n",
       " 'BlockSequenceStartToken',\n",
       " 'CBaseDumper',\n",
       " 'CBaseLoader',\n",
       " 'CDumper',\n",
       " 'CFullLoader',\n",
       " 'CLoader',\n",
       " 'CSafeDumper',\n",
       " 'CSafeLoader',\n",
       " 'CUnsafeLoader',\n",
       " 'CollectionEndEvent',\n",
       " 'CollectionNode',\n",
       " 'CollectionStartEvent',\n",
       " 'DirectiveToken',\n",
       " 'DocumentEndEvent',\n",
       " 'DocumentEndToken',\n",
       " 'DocumentStartEvent',\n",
       " 'DocumentStartToken',\n",
       " 'Dumper',\n",
       " 'Event',\n",
       " 'FlowEntryToken',\n",
       " 'FlowMappingEndToken',\n",
       " 'FlowMappingStartToken',\n",
       " 'FlowSequenceEndToken',\n",
       " 'FlowSequenceStartToken',\n",
       " 'FullLoader',\n",
       " 'KeyToken',\n",
       " 'Loader',\n",
       " 'MappingEndEvent',\n",
       " 'MappingNode',\n",
       " 'MappingStartEvent',\n",
       " 'Mark',\n",
       " 'MarkedYAMLError',\n",
       " 'Node',\n",
       " 'NodeEvent',\n",
       " 'SafeDumper',\n",
       " 'SafeLoader',\n",
       " 'ScalarEvent',\n",
       " 'ScalarNode',\n",
       " 'ScalarToken',\n",
       " 'SequenceEndEvent',\n",
       " 'SequenceNode',\n",
       " 'SequenceStartEvent',\n",
       " 'StreamEndEvent',\n",
       " 'StreamEndToken',\n",
       " 'StreamStartEvent',\n",
       " 'StreamStartToken',\n",
       " 'TagToken',\n",
       " 'Token',\n",
       " 'UnsafeLoader',\n",
       " 'ValueToken',\n",
       " 'YAMLError',\n",
       " 'YAMLLoadWarning',\n",
       " 'YAMLObject',\n",
       " 'YAMLObjectMetaclass',\n",
       " '__builtins__',\n",
       " '__cached__',\n",
       " '__doc__',\n",
       " '__file__',\n",
       " '__loader__',\n",
       " '__name__',\n",
       " '__package__',\n",
       " '__path__',\n",
       " '__spec__',\n",
       " '__version__',\n",
       " '__with_libyaml__',\n",
       " '_warnings_enabled',\n",
       " '_yaml',\n",
       " 'add_constructor',\n",
       " 'add_implicit_resolver',\n",
       " 'add_multi_constructor',\n",
       " 'add_multi_representer',\n",
       " 'add_path_resolver',\n",
       " 'add_representer',\n",
       " 'compose',\n",
       " 'compose_all',\n",
       " 'composer',\n",
       " 'constructor',\n",
       " 'cyaml',\n",
       " 'dump',\n",
       " 'dump_all',\n",
       " 'dumper',\n",
       " 'emit',\n",
       " 'emitter',\n",
       " 'error',\n",
       " 'events',\n",
       " 'full_load',\n",
       " 'full_load_all',\n",
       " 'io',\n",
       " 'load',\n",
       " 'load_all',\n",
       " 'load_warning',\n",
       " 'loader',\n",
       " 'nodes',\n",
       " 'parse',\n",
       " 'parser',\n",
       " 'reader',\n",
       " 'representer',\n",
       " 'resolver',\n",
       " 'safe_dump',\n",
       " 'safe_dump_all',\n",
       " 'safe_load',\n",
       " 'safe_load_all',\n",
       " 'scan',\n",
       " 'scanner',\n",
       " 'serialize',\n",
       " 'serialize_all',\n",
       " 'serializer',\n",
       " 'tokens',\n",
       " 'unsafe_load',\n",
       " 'unsafe_load_all',\n",
       " 'warnings']"
      ]
     },
     "execution_count": 46,
     "metadata": {},
     "output_type": "execute_result"
    }
   ],
   "source": [
    "dir(yaml)"
   ]
  },
  {
   "cell_type": "code",
   "execution_count": 56,
   "id": "sustainable-catalog",
   "metadata": {},
   "outputs": [],
   "source": [
    "doc = '''cities:\n",
    "  - Bratislava\n",
    "  - Kosice\n",
    "  - Trnava\n",
    "  - Moldava\n",
    "  - Trencin\n",
    "companies:\n",
    "   -Eset\n",
    "   -Slovnaft\n",
    "   -Duslo Sala\n",
    "   -Matador Puchov\n",
    "'''"
   ]
  },
  {
   "cell_type": "code",
   "execution_count": 57,
   "id": "parliamentary-startup",
   "metadata": {},
   "outputs": [
    {
     "name": "stderr",
     "output_type": "stream",
     "text": [
      "/Users/jackbennetto/anaconda3/lib/python3.7/site-packages/ipykernel_launcher.py:1: YAMLLoadWarning: calling yaml.load() without Loader=... is deprecated, as the default Loader is unsafe. Please read https://msg.pyyaml.org/load for full details.\n",
      "  \"\"\"Entry point for launching an IPython kernel.\n"
     ]
    },
    {
     "data": {
      "text/plain": [
       "{'cities': ['Bratislava', 'Kosice', 'Trnava', 'Moldava', 'Trencin'],\n",
       " 'companies': '-Eset -Slovnaft -Duslo Sala -Matador Puchov'}"
      ]
     },
     "execution_count": 57,
     "metadata": {},
     "output_type": "execute_result"
    }
   ],
   "source": [
    "yaml.load(doc)"
   ]
  },
  {
   "cell_type": "code",
   "execution_count": null,
   "id": "removable-helmet",
   "metadata": {},
   "outputs": [],
   "source": []
  },
  {
   "cell_type": "code",
   "execution_count": null,
   "id": "laughing-yellow",
   "metadata": {},
   "outputs": [],
   "source": []
  },
  {
   "cell_type": "code",
   "execution_count": 69,
   "id": "extensive-stock",
   "metadata": {},
   "outputs": [
    {
     "data": {
      "text/plain": [
       "array([[2, 3, 5, 4, 1, 0],\n",
       "       [0, 2, 0, 1, 4, 2]])"
      ]
     },
     "execution_count": 69,
     "metadata": {},
     "output_type": "execute_result"
    }
   ],
   "source": [
    "a = np.array([[2,3,5,4,1,0],[0,2,0,1,4,2]])\n",
    "a"
   ]
  },
  {
   "cell_type": "code",
   "execution_count": 65,
   "id": "dedicated-native",
   "metadata": {},
   "outputs": [
    {
     "data": {
      "text/plain": [
       "array([[[0., 0., 0., 0., 0., 0.],\n",
       "        [0., 0., 0., 0., 0., 0.],\n",
       "        [0., 0., 0., 0., 0., 0.],\n",
       "        [0., 0., 0., 0., 0., 0.],\n",
       "        [0., 0., 0., 0., 0., 0.],\n",
       "        [0., 0., 0., 0., 0., 0.]],\n",
       "\n",
       "       [[0., 0., 0., 0., 0., 0.],\n",
       "        [0., 0., 0., 0., 0., 0.],\n",
       "        [0., 0., 0., 0., 0., 0.],\n",
       "        [0., 0., 0., 0., 0., 0.],\n",
       "        [0., 0., 0., 0., 0., 0.],\n",
       "        [0., 0., 0., 0., 0., 0.]]])"
      ]
     },
     "execution_count": 65,
     "metadata": {},
     "output_type": "execute_result"
    }
   ],
   "source": [
    "state = np.zeros((2, 6, 6))\n",
    "state"
   ]
  },
  {
   "cell_type": "code",
   "execution_count": 83,
   "id": "impressed-woman",
   "metadata": {},
   "outputs": [
    {
     "data": {
      "text/plain": [
       "array([[[0, 0, 0, 0, 0, 0],\n",
       "        [1, 1, 1, 1, 1, 1]],\n",
       "\n",
       "       [[0, 1, 2, 3, 4, 5],\n",
       "        [0, 1, 2, 3, 4, 5]]])"
      ]
     },
     "execution_count": 83,
     "metadata": {},
     "output_type": "execute_result"
    }
   ],
   "source": [
    "idx = np.indices(a.shape)\n",
    "idx"
   ]
  },
  {
   "cell_type": "code",
   "execution_count": 75,
   "id": "excellent-medication",
   "metadata": {},
   "outputs": [
    {
     "data": {
      "text/plain": [
       "array([[2, 3, 5, 4, 1, 0],\n",
       "       [0, 2, 0, 1, 4, 2]])"
      ]
     },
     "execution_count": 75,
     "metadata": {},
     "output_type": "execute_result"
    }
   ],
   "source": [
    "a[idx[0], idx[1]]"
   ]
  },
  {
   "cell_type": "code",
   "execution_count": 85,
   "id": "fifteen-junction",
   "metadata": {},
   "outputs": [],
   "source": [
    "state[idx[0], idx[1], a[idx[0], idx[1]]] = 1"
   ]
  },
  {
   "cell_type": "code",
   "execution_count": 86,
   "id": "permanent-nowhere",
   "metadata": {},
   "outputs": [
    {
     "data": {
      "text/plain": [
       "array([[[0., 0., 1., 0., 0., 0.],\n",
       "        [0., 0., 0., 1., 0., 0.],\n",
       "        [0., 0., 0., 0., 0., 1.],\n",
       "        [0., 0., 0., 0., 1., 0.],\n",
       "        [0., 1., 0., 0., 0., 0.],\n",
       "        [1., 0., 0., 0., 0., 0.]],\n",
       "\n",
       "       [[1., 0., 0., 0., 0., 0.],\n",
       "        [0., 0., 1., 0., 0., 0.],\n",
       "        [1., 0., 0., 0., 0., 0.],\n",
       "        [0., 1., 0., 0., 0., 0.],\n",
       "        [0., 0., 0., 0., 1., 0.],\n",
       "        [0., 0., 1., 0., 0., 0.]]])"
      ]
     },
     "execution_count": 86,
     "metadata": {},
     "output_type": "execute_result"
    }
   ],
   "source": [
    "state"
   ]
  },
  {
   "cell_type": "code",
   "execution_count": 88,
   "id": "irish-jesus",
   "metadata": {},
   "outputs": [
    {
     "data": {
      "text/plain": [
       "24"
      ]
     },
     "execution_count": 88,
     "metadata": {},
     "output_type": "execute_result"
    }
   ],
   "source": [
    "6 * 4"
   ]
  },
  {
   "cell_type": "code",
   "execution_count": 89,
   "id": "ethical-wyoming",
   "metadata": {},
   "outputs": [
    {
     "data": {
      "text/plain": [
       "144"
      ]
     },
     "execution_count": 89,
     "metadata": {},
     "output_type": "execute_result"
    }
   ],
   "source": [
    "6 * 24"
   ]
  },
  {
   "cell_type": "code",
   "execution_count": 90,
   "id": "valuable-making",
   "metadata": {},
   "outputs": [
    {
     "data": {
      "text/plain": [
       "576"
      ]
     },
     "execution_count": 90,
     "metadata": {},
     "output_type": "execute_result"
    }
   ],
   "source": [
    "144 *4"
   ]
  },
  {
   "cell_type": "code",
   "execution_count": 91,
   "id": "welcome-estonia",
   "metadata": {},
   "outputs": [
    {
     "data": {
      "text/plain": [
       "9216"
      ]
     },
     "execution_count": 91,
     "metadata": {},
     "output_type": "execute_result"
    }
   ],
   "source": [
    "144 * 64"
   ]
  },
  {
   "cell_type": "code",
   "execution_count": 93,
   "id": "linear-dragon",
   "metadata": {},
   "outputs": [
    {
     "data": {
      "text/plain": [
       "114"
      ]
     },
     "execution_count": 93,
     "metadata": {},
     "output_type": "execute_result"
    }
   ],
   "source": [
    "2 * 3 * (2*3*3+1)"
   ]
  },
  {
   "cell_type": "code",
   "execution_count": null,
   "id": "adjusted-stephen",
   "metadata": {},
   "outputs": [],
   "source": []
  },
  {
   "cell_type": "code",
   "execution_count": null,
   "id": "quantitative-shopper",
   "metadata": {},
   "outputs": [],
   "source": []
  }
 ],
 "metadata": {
  "kernelspec": {
   "display_name": "Python 3",
   "language": "python",
   "name": "python3"
  },
  "language_info": {
   "codemirror_mode": {
    "name": "ipython",
    "version": 3
   },
   "file_extension": ".py",
   "mimetype": "text/x-python",
   "name": "python",
   "nbconvert_exporter": "python",
   "pygments_lexer": "ipython3",
   "version": "3.7.7"
  }
 },
 "nbformat": 4,
 "nbformat_minor": 5
}
